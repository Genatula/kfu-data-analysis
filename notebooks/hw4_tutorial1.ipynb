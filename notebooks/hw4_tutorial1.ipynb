{
 "cells": [
  {
   "cell_type": "markdown",
   "source": [
    "Импортируем необходмые библиотеки"
   ],
   "metadata": {
    "collapsed": false,
    "pycharm": {
     "name": "#%% md\n"
    }
   }
  },
  {
   "cell_type": "code",
   "execution_count": 1,
   "outputs": [],
   "source": [
    "import numpy as np\n",
    "from math import sqrt\n",
    "import pandas as pd\n",
    "from scipy.stats import poisson\n",
    "import matplotlib"
   ],
   "metadata": {
    "collapsed": false,
    "pycharm": {
     "name": "#%%\n"
    }
   }
  },
  {
   "cell_type": "markdown",
   "source": [
    "# Задача 1\n",
    "Создадим вектор значений [100, 80, 75, 77, 89, 33, 45, 25, 65, 17, 30, 24, 57, 55, 70, 75, 65, 84, 90, 150] - зарплат из выборки выпускников. Посчитаем для них выборочное среднее, стандартное отклонение, выборочную дисперсию со смещением и без."
   ],
   "metadata": {
    "collapsed": false,
    "pycharm": {
     "name": "#%% md\n"
    }
   }
  },
  {
   "cell_type": "code",
   "execution_count": 7,
   "outputs": [
    {
     "name": "stdout",
     "output_type": "stream",
     "text": [
      " Mean = 65.3 \n",
      " Biased variance = 950.11 \n",
      " Unbiased variance = 1000.12 \n",
      " Standard deviation = 30.82\n",
      "1000.1157894736842\n"
     ]
    }
   ],
   "source": [
    "data = np.array([100, 80, 75, 77, 89, 33, 45, 25, 65, 17, 30, 24, 57, 55, 70, 75, 65, 84, 90, 150])\n",
    "\n",
    "data_mean = round(np.sum(data) / data.size, 2)\n",
    "data_var_biased = round(np.sum((data - data_mean) ** 2) / data.size, 2)\n",
    "data_var_unbiased = round(np.sum((data - data_mean) ** 2) / (data.size - 1), 2)\n",
    "data_std = round(sqrt(data_var_biased), 2)\n",
    "\n",
    "print(' Mean = {0} \\n Biased variance = {1} \\n Unbiased variance = {2} \\n Standard deviation = {3}'.format(data_mean, data_var_biased, data_var_unbiased, data_std))"
   ],
   "metadata": {
    "collapsed": false,
    "pycharm": {
     "name": "#%%\n"
    }
   }
  },
  {
   "cell_type": "markdown",
   "source": [
    "# Задача 2\n",
    "Вычислим первый и третий квартили и интерквартильное расстояние"
   ],
   "metadata": {
    "collapsed": false,
    "pycharm": {
     "name": "#%% md\n"
    }
   }
  },
  {
   "cell_type": "code",
   "execution_count": 8,
   "outputs": [
    {
     "name": "stdout",
     "output_type": "stream",
     "text": [
      " First quantile = 45 \n",
      " Third quantile = 84 \n",
      " Interquantile range = (45, 84)\n"
     ]
    }
   ],
   "source": [
    "data = np.sort(data)\n",
    "first_quantile = data[data.size // 4]\n",
    "third_quantile = data[data.size * 3 // 4]\n",
    "interquartile_range = (first_quantile, third_quantile)\n",
    "\n",
    "print(' First quantile = {0} \\n Third quantile = {1} \\n Interquantile range = {2}'.format(first_quantile, third_quantile, interquartile_range))"
   ],
   "metadata": {
    "collapsed": false,
    "pycharm": {
     "name": "#%%\n"
    }
   }
  },
  {
   "cell_type": "markdown",
   "source": [
    "Найдем количество выбросов в выборке"
   ],
   "metadata": {
    "collapsed": false,
    "pycharm": {
     "name": "#%% md\n"
    }
   }
  },
  {
   "cell_type": "code",
   "execution_count": 9,
   "outputs": [
    {
     "data": {
      "text/plain": "<AxesSubplot:>"
     },
     "execution_count": 9,
     "metadata": {},
     "output_type": "execute_result"
    },
    {
     "data": {
      "text/plain": "<Figure size 432x288 with 1 Axes>",
      "image/png": "[encoded data removed]"
     },
     "metadata": {
      "needs_background": "light"
     },
     "output_type": "display_data"
    }
   ],
   "source": [
    "data_df = pd.DataFrame(data)\n",
    "data_df.boxplot()"
   ],
   "metadata": {
    "collapsed": false,
    "pycharm": {
     "name": "#%%\n"
    }
   }
  },
  {
   "cell_type": "code",
   "execution_count": 19,
   "outputs": [
    {
     "name": "stdout",
     "output_type": "stream",
     "text": [
      "1\n"
     ]
    }
   ],
   "source": [
    "iqr = interquartile_range[1] - interquartile_range[0]\n",
    "boxplot_range = (first_quantile - 1.5 * iqr, third_quantile + 1.5 * iqr)\n",
    "mask = (data < boxplot_range[0]) | (data > boxplot_range[1])\n",
    "outliers = data[mask]\n",
    "print(outliers.size)"
   ],
   "metadata": {
    "collapsed": false,
    "pycharm": {
     "name": "#%%\n"
    }
   }
  }
 ],
 "metadata": {
  "kernelspec": {
   "display_name": "Python 3",
   "language": "python",
   "name": "python3"
  },
  "language_info": {
   "codemirror_mode": {
    "name": "ipython",
    "version": 2
   },
   "file_extension": ".py",
   "mimetype": "text/x-python",
   "name": "python",
   "nbconvert_exporter": "python",
   "pygments_lexer": "ipython2",
   "version": "2.7.6"
  }
 },
 "nbformat": 4,
 "nbformat_minor": 0
}