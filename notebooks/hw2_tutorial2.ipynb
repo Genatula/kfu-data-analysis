{
 "cells": [
  {
   "cell_type": "markdown",
   "metadata": {
    "collapsed": true,
    "pycharm": {
     "name": "#%% md\n"
    }
   },
   "source": [
    "## Подготовка\n",
    "Импортируем numpy и загрузим данные:"
   ]
  },
  {
   "cell_type": "code",
   "execution_count": 2,
   "outputs": [],
   "source": [
    "import numpy as np\n",
    "\n",
    "marks = np.loadtxt(\"https://raw.githubusercontent.com/nadiinchi/iad2019/master/materials/data_hw1.txt\")"
   ],
   "metadata": {
    "collapsed": false,
    "pycharm": {
     "name": "#%%\n"
    }
   }
  },
  {
   "cell_type": "markdown",
   "source": [
    "## Число студентов\n",
    "Посчитаем количество студентов:"
   ],
   "metadata": {
    "collapsed": false,
    "pycharm": {
     "name": "#%% md\n"
    }
   }
  },
  {
   "cell_type": "code",
   "execution_count": 3,
   "outputs": [
    {
     "name": "stdout",
     "output_type": "stream",
     "text": [
      "28\n"
     ]
    }
   ],
   "source": [
    "num_studs = marks.shape[0]\n",
    "print(num_studs)"
   ],
   "metadata": {
    "collapsed": false,
    "pycharm": {
     "name": "#%%\n"
    }
   }
  },
  {
   "cell_type": "markdown",
   "source": [
    "## Очень сложная проверочная\n",
    "Найдём максимальный балл за первую проверочную, поделим весь первый столбец на него и умножим на 10:"
   ],
   "metadata": {
    "collapsed": false,
    "pycharm": {
     "name": "#%% md\n"
    }
   }
  },
  {
   "cell_type": "code",
   "execution_count": 4,
   "outputs": [
    {
     "name": "stdout",
     "output_type": "stream",
     "text": [
      "Max mark =  7.0\n",
      "[7.  0.  3.  3.4 6.8 7.  6.  0.  5.  0.  3.  4.  0.  6.  5.  0.  7.  4.5\n",
      " 0.  0.  0.  6.  6.5 7.  0.  7.  3.  3.5]\n",
      "[10.          0.          4.28571429  4.85714286  9.71428571 10.\n",
      "  8.57142857  0.          7.14285714  0.          4.28571429  5.71428571\n",
      "  0.          8.57142857  7.14285714  0.         10.          6.42857143\n",
      "  0.          0.          0.          8.57142857  9.28571429 10.\n",
      "  0.         10.          4.28571429  5.        ]\n"
     ]
    }
   ],
   "source": [
    "max_mark = np.max(marks[:, 0])\n",
    "print(\"Max mark = \", max_mark)\n",
    "\n",
    "print(marks[:, 0])\n",
    "marks[:, 0] = marks[:, 0] / max_mark * 10\n",
    "print(marks[:, 0])"
   ],
   "metadata": {
    "collapsed": false,
    "pycharm": {
     "name": "#%%\n"
    }
   }
  },
  {
   "cell_type": "markdown",
   "source": [
    "## Подсчёт накопительной оценки\n",
    "Посчитаем накоп для каждого студента: подсчитаем средние по проверочным, домашним работам и коллоквиуму, умножим на веса и сложим"
   ],
   "metadata": {
    "collapsed": false,
    "pycharm": {
     "name": "#%% md\n"
    }
   }
  },
  {
   "cell_type": "code",
   "execution_count": 5,
   "outputs": [
    {
     "name": "stdout",
     "output_type": "stream",
     "text": [
      "[[3.53      ]\n",
      " [3.53      ]\n",
      " [8.23857143]\n",
      " [5.72238095]\n",
      " [6.1247619 ]\n",
      " [9.2       ]\n",
      " [8.96380952]\n",
      " [1.5       ]\n",
      " [9.46761905]\n",
      " [8.56333333]\n",
      " [1.90857143]\n",
      " [9.21809524]\n",
      " [0.        ]\n",
      " [8.71714286]\n",
      " [8.63428571]\n",
      " [1.34      ]\n",
      " [9.96      ]\n",
      " [3.77952381]\n",
      " [0.        ]\n",
      " [1.43      ]\n",
      " [0.        ]\n",
      " [8.51714286]\n",
      " [9.78857143]\n",
      " [9.56666667]\n",
      " [3.04666667]\n",
      " [4.84      ]\n",
      " [9.01190476]\n",
      " [8.81666667]]\n",
      "[[10.          8.         10.          0.          0.          2.1\n",
      "   1.5         3.53      ]\n",
      " [ 0.          6.          4.4         4.          0.          5.\n",
      "   4.3         3.53      ]\n",
      " [ 4.28571429  7.          8.7         7.6         7.          9.7\n",
      "  10.          8.23857143]\n",
      " [ 4.85714286  1.3         7.          3.4         0.          9.4\n",
      "   9.          5.72238095]\n",
      " [ 9.71428571  9.1         8.2         0.          0.          7.9\n",
      "   7.9         6.1247619 ]\n",
      " [10.         10.         10.          9.          9.5        10.\n",
      "   8.          9.2       ]\n",
      " [ 8.57142857 10.          9.7         8.7         7.          8.5\n",
      "   9.7         8.96380952]\n",
      " [ 0.          9.3         5.7         0.          0.          0.\n",
      "   0.          1.5       ]\n",
      " [ 7.14285714 10.         10.          9.9        10.5        10.\n",
      "   9.          9.46761905]\n",
      " [ 0.          8.7         8.          9.7        10.          9.5\n",
      "  10.          8.56333333]\n",
      " [ 4.28571429  6.9         7.9         0.          0.          0.\n",
      "   0.          1.90857143]\n",
      " [ 5.71428571 10.         10.          9.9         9.7        10.\n",
      "   9.          9.21809524]\n",
      " [ 0.          0.          0.          0.          0.          0.\n",
      "   0.          0.        ]\n",
      " [ 8.57142857  5.         10.          9.7        10.         10.\n",
      "   8.          8.71714286]\n",
      " [ 7.14285714 10.          9.          7.          7.9        10.\n",
      "   9.          8.63428571]\n",
      " [ 0.          6.          7.4         0.          0.          0.\n",
      "   0.          1.34      ]\n",
      " [10.         10.         10.          9.7        10.         10.\n",
      "  10.          9.96      ]\n",
      " [ 6.42857143  8.7        10.          9.5         0.          0.\n",
      "   0.          3.77952381]\n",
      " [ 0.          0.          0.          0.          0.          0.\n",
      "   0.          0.        ]\n",
      " [ 0.          5.6         8.7         0.          0.          0.\n",
      "   0.          1.43      ]\n",
      " [ 0.          0.          0.          0.          0.          0.\n",
      "   0.          0.        ]\n",
      " [ 8.57142857 10.         10.          9.7         7.         10.\n",
      "   7.          8.51714286]\n",
      " [ 9.28571429  8.7         9.5        10.5         9.8        10.\n",
      "  10.          9.78857143]\n",
      " [10.          9.7        10.          8.1        10.         10.\n",
      "   9.5         9.56666667]\n",
      " [ 0.          8.3         9.5         9.5         0.          0.\n",
      "   0.          3.04666667]\n",
      " [10.          7.4         9.          7.7         0.          8.8\n",
      "   0.          4.84      ]\n",
      " [ 4.28571429  8.7        10.          9.4        10.7        10.\n",
      "   9.          9.01190476]\n",
      " [ 5.          9.3        10.          9.9        10.         10.\n",
      "   8.          8.81666667]]\n"
     ]
    }
   ],
   "source": [
    "# static\n",
    "weights = [0.3, 0.4, 0.3]\n",
    "assignment_columns = [0, 1, 2]\n",
    "home_assignment_columns = [3, 4, 5]\n",
    "colloquium_column = [6]\n",
    "all_rows = range(num_studs)\n",
    "\n",
    "# extract specific columns to distinct arrays\n",
    "assignments_array = marks[np.ix_(all_rows, assignment_columns)]\n",
    "home_assignments_array = marks[np.ix_(all_rows, home_assignment_columns)]\n",
    "colloquium_array = marks[np.ix_(all_rows, colloquium_column)]\n",
    "\n",
    "# calculate means\n",
    "assignment_means = np.mean(assignments_array, axis=1)\n",
    "home_assignment_means = np.mean(home_assignments_array, axis=1)\n",
    "colloquium_mean = colloquium_array\n",
    "\n",
    "# reshape to N x 1 matrix to merge with original matrix with N rows\n",
    "assignment_means = np.reshape(assignment_means, (num_studs, 1))\n",
    "home_assignment_means = np.reshape(home_assignment_means, (num_studs, 1))\n",
    "\n",
    "# calculate new column\n",
    "new_column = np.zeros((num_studs, 1))\n",
    "new_column = new_column + 0.3 * assignment_means + 0.4 * home_assignment_means + 0.3 * colloquium_mean\n",
    "\n",
    "marks = np.hstack((marks, new_column))\n",
    "\n",
    "print(new_column)\n",
    "print(marks)"
   ],
   "metadata": {
    "collapsed": false,
    "pycharm": {
     "name": "#%%\n"
    }
   }
  },
  {
   "cell_type": "markdown",
   "source": [
    "## Студенты, которых, вероятно, отчислят\n",
    "Подсчитаем количество студентов с накопительной оценкой, равной 0:"
   ],
   "metadata": {
    "collapsed": false,
    "pycharm": {
     "name": "#%% md\n"
    }
   }
  },
  {
   "cell_type": "code",
   "execution_count": 6,
   "outputs": [
    {
     "name": "stdout",
     "output_type": "stream",
     "text": [
      "3\n"
     ]
    }
   ],
   "source": [
    "column_of_zeros = np.zeros((num_studs, 1))\n",
    "result_of_comparing = (column_of_zeros == new_column)\n",
    "num_of_students_for_expulsion = np.sum(result_of_comparing)\n",
    "print(num_of_students_for_expulsion)"
   ],
   "metadata": {
    "collapsed": false,
    "pycharm": {
     "name": "#%%\n"
    }
   }
  },
  {
   "cell_type": "markdown",
   "source": [
    "## Студенты, которые получат автомат\n",
    "Подсчитаем количество студентов, которые получат автомат - их накоп должен быть больше 7. Присоединим к матрице новую колонку, показывающую, автомат ли у студента"
   ],
   "metadata": {
    "collapsed": false,
    "pycharm": {
     "name": "#%% md\n"
    }
   }
  },
  {
   "cell_type": "code",
   "execution_count": 7,
   "outputs": [
    {
     "name": "stdout",
     "output_type": "stream",
     "text": [
      "[[10.          8.         10.          0.          0.          2.1\n",
      "   1.5         3.53        0.        ]\n",
      " [ 0.          6.          4.4         4.          0.          5.\n",
      "   4.3         3.53        0.        ]\n",
      " [ 4.28571429  7.          8.7         7.6         7.          9.7\n",
      "  10.          8.23857143  1.        ]\n",
      " [ 4.85714286  1.3         7.          3.4         0.          9.4\n",
      "   9.          5.72238095  0.        ]\n",
      " [ 9.71428571  9.1         8.2         0.          0.          7.9\n",
      "   7.9         6.1247619   0.        ]\n",
      " [10.         10.         10.          9.          9.5        10.\n",
      "   8.          9.2         1.        ]\n",
      " [ 8.57142857 10.          9.7         8.7         7.          8.5\n",
      "   9.7         8.96380952  1.        ]\n",
      " [ 0.          9.3         5.7         0.          0.          0.\n",
      "   0.          1.5         0.        ]\n",
      " [ 7.14285714 10.         10.          9.9        10.5        10.\n",
      "   9.          9.46761905  1.        ]\n",
      " [ 0.          8.7         8.          9.7        10.          9.5\n",
      "  10.          8.56333333  1.        ]\n",
      " [ 4.28571429  6.9         7.9         0.          0.          0.\n",
      "   0.          1.90857143  0.        ]\n",
      " [ 5.71428571 10.         10.          9.9         9.7        10.\n",
      "   9.          9.21809524  1.        ]\n",
      " [ 0.          0.          0.          0.          0.          0.\n",
      "   0.          0.          0.        ]\n",
      " [ 8.57142857  5.         10.          9.7        10.         10.\n",
      "   8.          8.71714286  1.        ]\n",
      " [ 7.14285714 10.          9.          7.          7.9        10.\n",
      "   9.          8.63428571  1.        ]\n",
      " [ 0.          6.          7.4         0.          0.          0.\n",
      "   0.          1.34        0.        ]\n",
      " [10.         10.         10.          9.7        10.         10.\n",
      "  10.          9.96        1.        ]\n",
      " [ 6.42857143  8.7        10.          9.5         0.          0.\n",
      "   0.          3.77952381  0.        ]\n",
      " [ 0.          0.          0.          0.          0.          0.\n",
      "   0.          0.          0.        ]\n",
      " [ 0.          5.6         8.7         0.          0.          0.\n",
      "   0.          1.43        0.        ]\n",
      " [ 0.          0.          0.          0.          0.          0.\n",
      "   0.          0.          0.        ]\n",
      " [ 8.57142857 10.         10.          9.7         7.         10.\n",
      "   7.          8.51714286  1.        ]\n",
      " [ 9.28571429  8.7         9.5        10.5         9.8        10.\n",
      "  10.          9.78857143  1.        ]\n",
      " [10.          9.7        10.          8.1        10.         10.\n",
      "   9.5         9.56666667  1.        ]\n",
      " [ 0.          8.3         9.5         9.5         0.          0.\n",
      "   0.          3.04666667  0.        ]\n",
      " [10.          7.4         9.          7.7         0.          8.8\n",
      "   0.          4.84        0.        ]\n",
      " [ 4.28571429  8.7        10.          9.4        10.7        10.\n",
      "   9.          9.01190476  1.        ]\n",
      " [ 5.          9.3        10.          9.9        10.         10.\n",
      "   8.          8.81666667  1.        ]]\n"
     ]
    }
   ],
   "source": [
    "autopass_column = np.array(new_column > 7).astype(int)\n",
    "marks = np.hstack((marks, autopass_column))\n",
    "print(marks)"
   ],
   "metadata": {
    "collapsed": false,
    "pycharm": {
     "name": "#%%\n"
    }
   }
  },
  {
   "cell_type": "markdown",
   "source": [
    "## Студенты, освобождённые от задач на экзамене\n",
    "Отсортируем студентов по накопительной оценке и возьмём первую половину - они будут освобождены от задач на экзамене"
   ],
   "metadata": {
    "collapsed": false,
    "pycharm": {
     "name": "#%% md\n"
    }
   }
  },
  {
   "cell_type": "code",
   "execution_count": 8,
   "outputs": [
    {
     "name": "stdout",
     "output_type": "stream",
     "text": [
      "[[10.         10.         10.          9.7        10.         10.\n",
      "  10.          9.96        1.        ]\n",
      " [ 9.28571429  8.7         9.5        10.5         9.8        10.\n",
      "  10.          9.78857143  1.        ]\n",
      " [10.          9.7        10.          8.1        10.         10.\n",
      "   9.5         9.56666667  1.        ]\n",
      " [ 7.14285714 10.         10.          9.9        10.5        10.\n",
      "   9.          9.46761905  1.        ]\n",
      " [ 5.71428571 10.         10.          9.9         9.7        10.\n",
      "   9.          9.21809524  1.        ]\n",
      " [10.         10.         10.          9.          9.5        10.\n",
      "   8.          9.2         1.        ]\n",
      " [ 4.28571429  8.7        10.          9.4        10.7        10.\n",
      "   9.          9.01190476  1.        ]\n",
      " [ 8.57142857 10.          9.7         8.7         7.          8.5\n",
      "   9.7         8.96380952  1.        ]\n",
      " [ 5.          9.3        10.          9.9        10.         10.\n",
      "   8.          8.81666667  1.        ]\n",
      " [ 8.57142857  5.         10.          9.7        10.         10.\n",
      "   8.          8.71714286  1.        ]\n",
      " [ 7.14285714 10.          9.          7.          7.9        10.\n",
      "   9.          8.63428571  1.        ]\n",
      " [ 0.          8.7         8.          9.7        10.          9.5\n",
      "  10.          8.56333333  1.        ]\n",
      " [ 8.57142857 10.         10.          9.7         7.         10.\n",
      "   7.          8.51714286  1.        ]\n",
      " [ 4.28571429  7.          8.7         7.6         7.          9.7\n",
      "  10.          8.23857143  1.        ]]\n"
     ]
    }
   ],
   "source": [
    "cumulative_column = 7\n",
    "sorted_marks = marks[marks[:, cumulative_column].argsort()][::-1]\n",
    "free_from_practicum_students = sorted_marks[np.ix_(range(num_studs // 2))]\n",
    "print(free_from_practicum_students)"
   ],
   "metadata": {
    "collapsed": false,
    "pycharm": {
     "name": "#%%\n"
    }
   }
  },
  {
   "cell_type": "markdown",
   "source": [
    "## Сложность заданий\n",
    "Определим весы для каждого студента и сосчитаем сложность каждого задания"
   ],
   "metadata": {
    "collapsed": false,
    "pycharm": {
     "name": "#%% md\n"
    }
   }
  },
  {
   "cell_type": "code",
   "execution_count": 20,
   "outputs": [
    {
     "name": "stdout",
     "output_type": "stream",
     "text": [
      "[4.900375939849624, 7.1197368421052625, 7.8578947368421055, 6.164473684210526, 4.832894736842105, 5.878947368421052, 4.873684210526315]\n"
     ]
    }
   ],
   "source": [
    "weights_for_complexity = np.array([1.]*7+[2.]*4+[3.]*7+[4.]*(marks.shape[0]-18))\n",
    "weights_for_complexity = weights_for_complexity / np.sum(weights_for_complexity)\n",
    "lower_borders = [0, 7, 11, 18]\n",
    "lengths = [7, 4, 7, 10]\n",
    "\n",
    "complexities = []\n",
    "\n",
    "for i in range(7):\n",
    "    complexity = 0\n",
    "    for j in range(4):\n",
    "        start = lower_borders[j]\n",
    "        end = lower_borders [j] + lengths[j]\n",
    "        complexity += np.sum(marks[np.ix_(range(start, end), [i])].flatten() * weights_for_complexity[np.ix_(range(start, end))])\n",
    "    complexities.append(complexity)\n",
    "\n",
    "print(complexities)"
   ],
   "metadata": {
    "collapsed": false,
    "pycharm": {
     "name": "#%%\n"
    }
   }
  }
 ],
 "metadata": {
  "kernelspec": {
   "display_name": "Python 3",
   "language": "python",
   "name": "python3"
  },
  "language_info": {
   "codemirror_mode": {
    "name": "ipython",
    "version": 2
   },
   "file_extension": ".py",
   "mimetype": "text/x-python",
   "name": "python",
   "nbconvert_exporter": "python",
   "pygments_lexer": "ipython2",
   "version": "2.7.6"
  }
 },
 "nbformat": 4,
 "nbformat_minor": 0
}